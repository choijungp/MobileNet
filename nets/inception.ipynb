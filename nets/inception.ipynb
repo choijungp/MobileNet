{
  "cells": [
    {
      "cell_type": "code",
      "metadata": {},
      "source": [
        "# Copyright 2016 The TensorFlow Authors. All Rights Reserved.\n",
        "#\n",
        "# Licensed under the Apache License, Version 2.0 (the \"License\");\n",
        "# you may not use this file except in compliance with the License.\n",
        "# You may obtain a copy of the License at\n",
        "#\n",
        "# http://www.apache.org/licenses/LICENSE-2.0\n",
        "#\n",
        "# Unless required by applicable law or agreed to in writing, software\n",
        "# distributed under the License is distributed on an \"AS IS\" BASIS,\n",
        "# WITHOUT WARRANTIES OR CONDITIONS OF ANY KIND, either express or implied.\n",
        "# See the License for the specific language governing permissions and\n",
        "# limitations under the License.\n",
        "# ==============================================================================\n",
        "\"\"\"Brings all inception models under one namespace.\"\"\"\n",
        "\n",
        "from __future__ import absolute_import\n",
        "from __future__ import division\n",
        "from __future__ import print_function\n",
        "\n",
        "# pylint: disable=unused-import\n",
        "from nets.inception_resnet_v2 import inception_resnet_v2\n",
        "from nets.inception_resnet_v2 import inception_resnet_v2_arg_scope\n",
        "from nets.inception_v1 import inception_v1\n",
        "from nets.inception_v1 import inception_v1_arg_scope\n",
        "from nets.inception_v1 import inception_v1_base\n",
        "from nets.inception_v2 import inception_v2\n",
        "from nets.inception_v2 import inception_v2_arg_scope\n",
        "from nets.inception_v2 import inception_v2_base\n",
        "from nets.inception_v3 import inception_v3\n",
        "from nets.inception_v3 import inception_v3_arg_scope\n",
        "from nets.inception_v3 import inception_v3_base\n",
        "from nets.inception_v4 import inception_v4\n",
        "from nets.inception_v4 import inception_v4_arg_scope\n",
        "from nets.inception_v4 import inception_v4_base\n",
        "# pylint: enable=unused-import"
      ],
      "outputs": [],
      "execution_count": null
    }
  ],
  "metadata": {
    "anaconda-cloud": {},
    "kernelspec": {
      "display_name": "Python 3",
      "language": "python",
      "name": "python3"
    },
    "language_info": {
      "codemirror_mode": {
        "name": "ipython",
        "version": 3
      },
      "file_extension": ".py",
      "mimetype": "text/x-python",
      "name": "python",
      "nbconvert_exporter": "python",
      "pygments_lexer": "ipython3",
      "version": "3.6.1"
    }
  },
  "nbformat": 4,
  "nbformat_minor": 1
}