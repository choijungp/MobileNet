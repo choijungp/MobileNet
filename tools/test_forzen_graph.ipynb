{
  "cells": [
    {
      "cell_type": "code",
      "metadata": {},
      "source": [
        "import tensorflow as tf\n",
        "from scipy.misc import imread, imresize\n",
        "import numpy as np\n",
        "\n",
        "# Quantize\n",
        "use_quantized_graph = True\n",
        "\n",
        "# Read image\n",
        "img = imread(\"/home/zehao/Desktop/dog.png\")\n",
        "img = imresize(img, (224, 224, 3))\n",
        "img = img.astype(np.float32)\n",
        "img = np.expand_dims(img, 0)\n",
        "\n",
        "# Preprocess\n",
        "img = img / 255.\n",
        "img = img - 0.5\n",
        "img = img * 2.\n",
        "\n",
        "# Graph\n",
        "if use_quantized_graph:\n",
        "  graph_filename = \"../mobilenet-model/with_placeholder/quantized_graph.pb\"\n",
        "else:\n",
        "  graph_filename = \"../mobilenet-model/with_placeholder/frozen_graph.pb\"\n",
        "\n",
        "# Create labels dict from labels.txt\n",
        "labels_file = \"/home/zehao/Dataset/imagenet-data/labels.txt\"\n",
        "labels_dict = {}\n",
        "with open(labels_file, 'r') as f:\n",
        "  for kv in [d.strip().split(':') for d in f]:\n",
        "    labels_dict[int(kv[0])] = kv[1]\n",
        "\n",
        "# Create a graph def object to read the graph\n",
        "with tf.gfile.GFile(graph_filename, \"rb\") as f:\n",
        "  graph_def = tf.GraphDef()\n",
        "  graph_def.ParseFromString(f.read())\n",
        "\n",
        "# Construct the graph and import the graph from graphdef\n",
        "with tf.Graph().as_default() as graph:\n",
        "  tf.import_graph_def(graph_def)\n",
        "\n",
        "  # We define the input and output node we will feed in\n",
        "  input_node = graph.get_tensor_by_name('import/MobileNet/input_images:0')\n",
        "  output_node = graph.get_tensor_by_name('import/MobileNet/Predictions/Softmax:0')\n",
        "\n",
        "  with tf.Session() as sess:\n",
        "    predictions = sess.run(output_node, feed_dict={input_node: img})[0]\n",
        "    top_5_predictions = predictions.argsort()[-5:][::-1]\n",
        "    top_5_probabilities = predictions[top_5_predictions]\n",
        "    prediction_names = [labels_dict[i] for i in top_5_predictions]\n",
        "\n",
        "    for i in xrange(len(prediction_names)):\n",
        "      print 'Prediction: %s, Probability: %s \\n' % (prediction_names[i], top_5_probabilities[i])"
      ],
      "outputs": [],
      "execution_count": null
    }
  ],
  "metadata": {
    "anaconda-cloud": {},
    "kernelspec": {
      "display_name": "Python 3",
      "language": "python",
      "name": "python3"
    },
    "language_info": {
      "codemirror_mode": {
        "name": "ipython",
        "version": 3
      },
      "file_extension": ".py",
      "mimetype": "text/x-python",
      "name": "python",
      "nbconvert_exporter": "python",
      "pygments_lexer": "ipython3",
      "version": "3.6.1"
    }
  },
  "nbformat": 4,
  "nbformat_minor": 1
}