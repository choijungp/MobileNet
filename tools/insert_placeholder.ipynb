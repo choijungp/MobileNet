{
  "cells": [
    {
      "cell_type": "code",
      "metadata": {},
      "source": [
        "import tensorflow as tf\n",
        "from nets.mobilenet import mobilenet\n",
        "from tensorflow.python.training import saver as saver_lib\n",
        "from tensorflow.python import pywrap_tensorflow\n",
        "\n",
        "input_checkpoint = '/home/zehao/PycharmProjects/MobileNet/mobilenet-model/model.ckpt-439074'\n",
        "\n",
        "# Where to save the modified graph\n",
        "save_path = '/home/zehao/PycharmProjects/MobileNet/mobilenet-model/with_placeholder'\n",
        "\n",
        "# TODO(shizehao): use graph editor library insead\n",
        "with tf.Graph().as_default() as graph:\n",
        "  input_images = tf.placeholder(tf.float32, [None, 224, 224, 3], 'MobileNet/input_images')\n",
        "  logits, predictions = mobilenet(inputs=input_images, num_classes=1001, is_training=False)\n",
        "  saver = tf.train.Saver()\n",
        "  with tf.Session() as sess:\n",
        "    var_list = {}\n",
        "    reader = pywrap_tensorflow.NewCheckpointReader(input_checkpoint)\n",
        "    var_to_shape_map = reader.get_variable_to_shape_map()\n",
        "    for key in var_to_shape_map:\n",
        "      try:\n",
        "        tensor = sess.graph.get_tensor_by_name(key + \":0\")\n",
        "      except KeyError:\n",
        "        # This tensor doesn't exist in the graph (for example it's\n",
        "        # 'global_step' or a similar housekeeping element) so skip it.\n",
        "        continue\n",
        "      var_list[key] = tensor\n",
        "    saver = saver_lib.Saver(var_list=var_list)\n",
        "\n",
        "    # Restore variables\n",
        "    saver.restore(sess, input_checkpoint)\n",
        "\n",
        "    # Save new checkpoint and the graph\n",
        "    saver.save(sess, save_path+'/with_placeholder')\n",
        "    tf.train.write_graph(graph, save_path, 'graph.pbtxt')\n"
      ],
      "outputs": [],
      "execution_count": null
    }
  ],
  "metadata": {
    "anaconda-cloud": {},
    "kernelspec": {
      "display_name": "Python 3",
      "language": "python",
      "name": "python3"
    },
    "language_info": {
      "codemirror_mode": {
        "name": "ipython",
        "version": 3
      },
      "file_extension": ".py",
      "mimetype": "text/x-python",
      "name": "python",
      "nbconvert_exporter": "python",
      "pygments_lexer": "ipython3",
      "version": "3.6.1"
    }
  },
  "nbformat": 4,
  "nbformat_minor": 1
}