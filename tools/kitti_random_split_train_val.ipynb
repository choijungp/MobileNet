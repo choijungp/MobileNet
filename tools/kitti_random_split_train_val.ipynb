{
  "cells": [
    {
      "cell_type": "code",
      "metadata": {},
      "source": [
        "import numpy as np\n",
        "\n",
        "image_set_dir = './KITTI/ImageSets'\n",
        "trainval_file = image_set_dir+'/trainval.txt'\n",
        "train_file = image_set_dir+'/train.txt'\n",
        "val_file = image_set_dir+'/val.txt'\n",
        "\n",
        "idx = []\n",
        "with open(trainval_file) as f:\n",
        "  for line in f:\n",
        "    idx.append(line.strip())\n",
        "f.close()\n",
        "\n",
        "idx = np.random.permutation(idx)\n",
        "\n",
        "train_idx = sorted(idx[:len(idx)/2])\n",
        "val_idx = sorted(idx[len(idx)/2:])\n",
        "\n",
        "with open(train_file, 'w') as f:\n",
        "  for i in train_idx:\n",
        "    f.write('{}\\n'.format(i))\n",
        "f.close()\n",
        "\n",
        "with open(val_file, 'w') as f:\n",
        "  for i in val_idx:\n",
        "    f.write('{}\\n'.format(i))\n",
        "f.close()\n",
        "\n",
        "print('Trainining set is saved to ' + train_file)\n",
        "print('Validation set is saved to ' + val_file)"
      ],
      "outputs": [],
      "execution_count": null
    }
  ],
  "metadata": {
    "anaconda-cloud": {},
    "kernelspec": {
      "display_name": "Python 3",
      "language": "python",
      "name": "python3"
    },
    "language_info": {
      "codemirror_mode": {
        "name": "ipython",
        "version": 3
      },
      "file_extension": ".py",
      "mimetype": "text/x-python",
      "name": "python",
      "nbconvert_exporter": "python",
      "pygments_lexer": "ipython3",
      "version": "3.6.1"
    }
  },
  "nbformat": 4,
  "nbformat_minor": 1
}